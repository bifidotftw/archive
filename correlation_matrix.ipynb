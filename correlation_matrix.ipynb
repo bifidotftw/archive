{
 "cells": [
  {
   "cell_type": "code",
   "execution_count": 1,
   "metadata": {},
   "outputs": [
    {
     "name": "stderr",
     "output_type": "stream",
     "text": [
      "── \u001b[1mAttaching packages\u001b[22m ─────────────────────────────────────────────────────────────────────────────── tidyverse 1.3.0 ──\n",
      "\n",
      "\u001b[32m✔\u001b[39m \u001b[34mggplot2\u001b[39m 3.3.3     \u001b[32m✔\u001b[39m \u001b[34mpurrr  \u001b[39m 0.3.4\n",
      "\u001b[32m✔\u001b[39m \u001b[34mtibble \u001b[39m 3.0.4     \u001b[32m✔\u001b[39m \u001b[34mdplyr  \u001b[39m 1.0.2\n",
      "\u001b[32m✔\u001b[39m \u001b[34mtidyr  \u001b[39m 1.1.2     \u001b[32m✔\u001b[39m \u001b[34mstringr\u001b[39m 1.4.0\n",
      "\u001b[32m✔\u001b[39m \u001b[34mreadr  \u001b[39m 1.4.0     \u001b[32m✔\u001b[39m \u001b[34mforcats\u001b[39m 0.5.0\n",
      "\n",
      "── \u001b[1mConflicts\u001b[22m ────────────────────────────────────────────────────────────────────────────────── tidyverse_conflicts() ──\n",
      "\u001b[31m✖\u001b[39m \u001b[34mdplyr\u001b[39m::\u001b[32mfilter()\u001b[39m masks \u001b[34mstats\u001b[39m::filter()\n",
      "\u001b[31m✖\u001b[39m \u001b[34mdplyr\u001b[39m::\u001b[32mlag()\u001b[39m    masks \u001b[34mstats\u001b[39m::lag()\n",
      "\n",
      "\n",
      "Attaching package: ‘psych’\n",
      "\n",
      "\n",
      "The following objects are masked from ‘package:ggplot2’:\n",
      "\n",
      "    %+%, alpha\n",
      "\n",
      "\n"
     ]
    }
   ],
   "source": [
    "library(tidyverse)\n",
    "library(psych) # provides corr.test"
   ]
  },
  {
   "cell_type": "code",
   "execution_count": 5,
   "metadata": {},
   "outputs": [],
   "source": [
    "df <- iris %>%\n",
    "    select(-Species) # Exclude non-numeric column"
   ]
  },
  {
   "cell_type": "code",
   "execution_count": 8,
   "metadata": {},
   "outputs": [
    {
     "data": {
      "text/html": [
       "<table>\n",
       "<caption>A matrix: 4 × 4 of type dbl</caption>\n",
       "<thead>\n",
       "\t<tr><th></th><th scope=col>Sepal.Length</th><th scope=col>Sepal.Width</th><th scope=col>Petal.Length</th><th scope=col>Petal.Width</th></tr>\n",
       "</thead>\n",
       "<tbody>\n",
       "\t<tr><th scope=row>Sepal.Length</th><td> 1.00000000</td><td>-0.07699679</td><td> 0.7185159</td><td> 0.6553086</td></tr>\n",
       "\t<tr><th scope=row>Sepal.Width</th><td>-0.07699679</td><td> 1.00000000</td><td>-0.1859944</td><td>-0.1571257</td></tr>\n",
       "\t<tr><th scope=row>Petal.Length</th><td> 0.71851593</td><td>-0.18599442</td><td> 1.0000000</td><td> 0.8068907</td></tr>\n",
       "\t<tr><th scope=row>Petal.Width</th><td> 0.65530856</td><td>-0.15712566</td><td> 0.8068907</td><td> 1.0000000</td></tr>\n",
       "</tbody>\n",
       "</table>\n"
      ],
      "text/latex": [
       "A matrix: 4 × 4 of type dbl\n",
       "\\begin{tabular}{r|llll}\n",
       "  & Sepal.Length & Sepal.Width & Petal.Length & Petal.Width\\\\\n",
       "\\hline\n",
       "\tSepal.Length &  1.00000000 & -0.07699679 &  0.7185159 &  0.6553086\\\\\n",
       "\tSepal.Width & -0.07699679 &  1.00000000 & -0.1859944 & -0.1571257\\\\\n",
       "\tPetal.Length &  0.71851593 & -0.18599442 &  1.0000000 &  0.8068907\\\\\n",
       "\tPetal.Width &  0.65530856 & -0.15712566 &  0.8068907 &  1.0000000\\\\\n",
       "\\end{tabular}\n"
      ],
      "text/markdown": [
       "\n",
       "A matrix: 4 × 4 of type dbl\n",
       "\n",
       "| <!--/--> | Sepal.Length | Sepal.Width | Petal.Length | Petal.Width |\n",
       "|---|---|---|---|---|\n",
       "| Sepal.Length |  1.00000000 | -0.07699679 |  0.7185159 |  0.6553086 |\n",
       "| Sepal.Width | -0.07699679 |  1.00000000 | -0.1859944 | -0.1571257 |\n",
       "| Petal.Length |  0.71851593 | -0.18599442 |  1.0000000 |  0.8068907 |\n",
       "| Petal.Width |  0.65530856 | -0.15712566 |  0.8068907 |  1.0000000 |\n",
       "\n"
      ],
      "text/plain": [
       "             Sepal.Length Sepal.Width Petal.Length Petal.Width\n",
       "Sepal.Length  1.00000000  -0.07699679  0.7185159    0.6553086 \n",
       "Sepal.Width  -0.07699679   1.00000000 -0.1859944   -0.1571257 \n",
       "Petal.Length  0.71851593  -0.18599442  1.0000000    0.8068907 \n",
       "Petal.Width   0.65530856  -0.15712566  0.8068907    1.0000000 "
      ]
     },
     "metadata": {},
     "output_type": "display_data"
    },
    {
     "data": {
      "text/html": [
       "<table>\n",
       "<caption>A matrix: 4 × 4 of type dbl</caption>\n",
       "<thead>\n",
       "\t<tr><th></th><th scope=col>Sepal.Length</th><th scope=col>Sepal.Width</th><th scope=col>Petal.Length</th><th scope=col>Petal.Width</th></tr>\n",
       "</thead>\n",
       "<tbody>\n",
       "\t<tr><th scope=row>Sepal.Length</th><td>0.000000e+00</td><td>0.34900724</td><td>1.244614e-24</td><td>1.835665e-19</td></tr>\n",
       "\t<tr><th scope=row>Sepal.Width</th><td>3.490072e-01</td><td>0.00000000</td><td>3.401637e-02</td><td>6.579384e-02</td></tr>\n",
       "\t<tr><th scope=row>Petal.Length</th><td>4.148714e-25</td><td>0.02267758</td><td>0.000000e+00</td><td>7.051335e-35</td></tr>\n",
       "\t<tr><th scope=row>Petal.Width</th><td>9.178327e-20</td><td>0.05482820</td><td>1.175222e-35</td><td>0.000000e+00</td></tr>\n",
       "</tbody>\n",
       "</table>\n"
      ],
      "text/latex": [
       "A matrix: 4 × 4 of type dbl\n",
       "\\begin{tabular}{r|llll}\n",
       "  & Sepal.Length & Sepal.Width & Petal.Length & Petal.Width\\\\\n",
       "\\hline\n",
       "\tSepal.Length & 0.000000e+00 & 0.34900724 & 1.244614e-24 & 1.835665e-19\\\\\n",
       "\tSepal.Width & 3.490072e-01 & 0.00000000 & 3.401637e-02 & 6.579384e-02\\\\\n",
       "\tPetal.Length & 4.148714e-25 & 0.02267758 & 0.000000e+00 & 7.051335e-35\\\\\n",
       "\tPetal.Width & 9.178327e-20 & 0.05482820 & 1.175222e-35 & 0.000000e+00\\\\\n",
       "\\end{tabular}\n"
      ],
      "text/markdown": [
       "\n",
       "A matrix: 4 × 4 of type dbl\n",
       "\n",
       "| <!--/--> | Sepal.Length | Sepal.Width | Petal.Length | Petal.Width |\n",
       "|---|---|---|---|---|\n",
       "| Sepal.Length | 0.000000e+00 | 0.34900724 | 1.244614e-24 | 1.835665e-19 |\n",
       "| Sepal.Width | 3.490072e-01 | 0.00000000 | 3.401637e-02 | 6.579384e-02 |\n",
       "| Petal.Length | 4.148714e-25 | 0.02267758 | 0.000000e+00 | 7.051335e-35 |\n",
       "| Petal.Width | 9.178327e-20 | 0.05482820 | 1.175222e-35 | 0.000000e+00 |\n",
       "\n"
      ],
      "text/plain": [
       "             Sepal.Length Sepal.Width Petal.Length Petal.Width \n",
       "Sepal.Length 0.000000e+00 0.34900724  1.244614e-24 1.835665e-19\n",
       "Sepal.Width  3.490072e-01 0.00000000  3.401637e-02 6.579384e-02\n",
       "Petal.Length 4.148714e-25 0.02267758  0.000000e+00 7.051335e-35\n",
       "Petal.Width  9.178327e-20 0.05482820  1.175222e-35 0.000000e+00"
      ]
     },
     "metadata": {},
     "output_type": "display_data"
    }
   ],
   "source": [
    "cormat_list <- corr.test(df, method = 'kendall', ci = FALSE, adjust = 'fdr')\n",
    "cormat <- cormat_list$r\n",
    "cormat_p <- cormat_list$p\n",
    "\n",
    "cormat\n",
    "cormat_p"
   ]
  },
  {
   "cell_type": "code",
   "execution_count": 9,
   "metadata": {},
   "outputs": [
    {
     "data": {
      "image/png": "[encoded data removed]",
      "text/plain": [
       "plot without title"
      ]
     },
     "metadata": {
      "image/png": {
       "height": 420,
       "width": 420
      }
     },
     "output_type": "display_data"
    }
   ],
   "source": [
    "col <- colorRampPalette(c(\"blue\", \"white\", \"red\"))(20)\n",
    "heatmap(cormat, col=col, symm=TRUE)"
   ]
  }
 ],
 "metadata": {
  "kernelspec": {
   "display_name": "R",
   "language": "R",
   "name": "ir"
  },
  "language_info": {
   "codemirror_mode": "r",
   "file_extension": ".r",
   "mimetype": "text/x-r-source",
   "name": "R",
   "pygments_lexer": "r",
   "version": "3.6.3"
  },
  "toc": {
   "base_numbering": 1,
   "nav_menu": {},
   "number_sections": true,
   "sideBar": true,
   "skip_h1_title": false,
   "title_cell": "Table of Contents",
   "title_sidebar": "Contents",
   "toc_cell": false,
   "toc_position": {},
   "toc_section_display": true,
   "toc_window_display": false
  }
 },
 "nbformat": 4,
 "nbformat_minor": 4
}
