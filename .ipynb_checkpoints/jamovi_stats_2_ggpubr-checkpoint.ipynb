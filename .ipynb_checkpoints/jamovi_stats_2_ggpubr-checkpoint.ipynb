{
 "cells": [
  {
   "cell_type": "markdown",
   "metadata": {},
   "source": [
    "Take statistical analysis done in jamovi, i.e. with the jamovi R package 'jmv', and display it in a ggpubr plot."
   ]
  },
  {
   "cell_type": "markdown",
   "metadata": {},
   "source": [
    "Required libraries:"
   ]
  },
  {
   "cell_type": "code",
   "execution_count": 2,
   "metadata": {},
   "outputs": [
    {
     "name": "stderr",
     "output_type": "stream",
     "text": [
      "── \u001b[1mAttaching packages\u001b[22m ──────────────────────────────────────────────────────────────────────────────────────────────────────────────────────────────────────────────────────────────────────────────────────────── tidyverse 1.3.0 ──\n",
      "\n",
      "\u001b[32m✔\u001b[39m \u001b[34mggplot2\u001b[39m 3.3.3     \u001b[32m✔\u001b[39m \u001b[34mpurrr  \u001b[39m 0.3.4\n",
      "\u001b[32m✔\u001b[39m \u001b[34mtibble \u001b[39m 3.0.4     \u001b[32m✔\u001b[39m \u001b[34mdplyr  \u001b[39m 1.0.2\n",
      "\u001b[32m✔\u001b[39m \u001b[34mtidyr  \u001b[39m 1.1.2     \u001b[32m✔\u001b[39m \u001b[34mstringr\u001b[39m 1.4.0\n",
      "\u001b[32m✔\u001b[39m \u001b[34mreadr  \u001b[39m 1.4.0     \u001b[32m✔\u001b[39m \u001b[34mforcats\u001b[39m 0.5.0\n",
      "\n",
      "── \u001b[1mConflicts\u001b[22m ─────────────────────────────────────────────────────────────────────────────────────────────────────────────────────────────────────────────────────────────────────────────────────────────── tidyverse_conflicts() ──\n",
      "\u001b[31m✖\u001b[39m \u001b[34mdplyr\u001b[39m::\u001b[32mfilter()\u001b[39m masks \u001b[34mstats\u001b[39m::filter()\n",
      "\u001b[31m✖\u001b[39m \u001b[34mdplyr\u001b[39m::\u001b[32mlag()\u001b[39m    masks \u001b[34mstats\u001b[39m::lag()\n",
      "\n"
     ]
    }
   ],
   "source": [
    "library(tidyverse)\n",
    "library(ggpubr)\n",
    "library(jmv)"
   ]
  },
  {
   "cell_type": "markdown",
   "metadata": {},
   "source": [
    "Example ANOVA of iris data"
   ]
  },
  {
   "cell_type": "code",
   "execution_count": 5,
   "metadata": {},
   "outputs": [
    {
     "data": {
      "text/plain": [
       "\n",
       " ANOVA\n",
       "\n",
       " ANOVA - Sepal.Length                                                            \n",
       " ─────────────────────────────────────────────────────────────────────────────── \n",
       "                Sum of Squares    df     Mean Square    F           p            \n",
       " ─────────────────────────────────────────────────────────────────────────────── \n",
       "   Species            63.21213      2     31.6060667    119.2645    < .0000001   \n",
       "   Residuals          38.95620    147      0.2650082                             \n",
       " ─────────────────────────────────────────────────────────────────────────────── \n",
       "\n",
       "\n",
       " POST HOC TESTS\n",
       "\n",
       " Post Hoc Comparisons - Species                                                                            \n",
       " ───────────────────────────────────────────────────────────────────────────────────────────────────────── \n",
       "   Species            Species       Mean Difference    SE           df          t             p-tukey      \n",
       " ───────────────────────────────────────────────────────────────────────────────────────────────────────── \n",
       "   setosa        -    versicolor         -0.9300000    0.1029579    147.0000     -9.032819    < .0000001   \n",
       "                 -    virginica          -1.5820000    0.1029579    147.0000    -15.365506    < .0000001   \n",
       "   versicolor    -    virginica          -0.6520000    0.1029579    147.0000     -6.332686    < .0000001   \n",
       " ───────────────────────────────────────────────────────────────────────────────────────────────────────── \n"
      ]
     },
     "metadata": {},
     "output_type": "display_data"
    }
   ],
   "source": [
    "anova <- jmv::ANOVA(\n",
    "    formula = Sepal.Length ~ Species,\n",
    "    data = iris,\n",
    "    postHoc = ~ Species)\n",
    "anova"
   ]
  },
  {
   "cell_type": "markdown",
   "metadata": {},
   "source": [
    "Add column that indicates significance with stars"
   ]
  },
  {
   "cell_type": "code",
   "execution_count": 14,
   "metadata": {},
   "outputs": [
    {
     "data": {
      "text/html": [
       "<table>\n",
       "<caption>A data.frame: 3 × 4</caption>\n",
       "<thead>\n",
       "\t<tr><th scope=col>group1</th><th scope=col>group2</th><th scope=col>ptukey</th><th scope=col>significance</th></tr>\n",
       "\t<tr><th scope=col>&lt;fct&gt;</th><th scope=col>&lt;fct&gt;</th><th scope=col>&lt;dbl&gt;</th><th scope=col>&lt;chr&gt;</th></tr>\n",
       "</thead>\n",
       "<tbody>\n",
       "\t<tr><td>setosa    </td><td>versicolor</td><td>3.386180e-14</td><td>***</td></tr>\n",
       "\t<tr><td>setosa    </td><td>virginica </td><td>2.997602e-15</td><td>***</td></tr>\n",
       "\t<tr><td>versicolor</td><td>virginica </td><td>8.287558e-09</td><td>***</td></tr>\n",
       "</tbody>\n",
       "</table>\n"
      ],
      "text/latex": [
       "A data.frame: 3 × 4\n",
       "\\begin{tabular}{llll}\n",
       " group1 & group2 & ptukey & significance\\\\\n",
       " <fct> & <fct> & <dbl> & <chr>\\\\\n",
       "\\hline\n",
       "\t setosa     & versicolor & 3.386180e-14 & ***\\\\\n",
       "\t setosa     & virginica  & 2.997602e-15 & ***\\\\\n",
       "\t versicolor & virginica  & 8.287558e-09 & ***\\\\\n",
       "\\end{tabular}\n"
      ],
      "text/markdown": [
       "\n",
       "A data.frame: 3 × 4\n",
       "\n",
       "| group1 &lt;fct&gt; | group2 &lt;fct&gt; | ptukey &lt;dbl&gt; | significance &lt;chr&gt; |\n",
       "|---|---|---|---|\n",
       "| setosa     | versicolor | 3.386180e-14 | *** |\n",
       "| setosa     | virginica  | 2.997602e-15 | *** |\n",
       "| versicolor | virginica  | 8.287558e-09 | *** |\n",
       "\n"
      ],
      "text/plain": [
       "  group1     group2     ptukey       significance\n",
       "1 setosa     versicolor 3.386180e-14 ***         \n",
       "2 setosa     virginica  2.997602e-15 ***         \n",
       "3 versicolor virginica  8.287558e-09 ***         "
      ]
     },
     "metadata": {},
     "output_type": "display_data"
    }
   ],
   "source": [
    "tukey <- anova$postHoc[[1]]$asDF %>%\n",
    "    select(Species1, Species2, ptukey) %>% # TODO: Replace Species1 and Species2 with correct variable name\n",
    "    rename(group1 = Species1, group2 = Species2) %>% # TODO: Replace Species1 and Species2 with correct variable name\n",
    "    mutate(significance = case_when(ptukey < 0.001 ~ '***',\n",
    "                                    ptukey < 0.01 ~ '**',\n",
    "                                    ptukey < 0.05 ~ '*',\n",
    "                                    ptukey <= 1 ~ 'ns'\n",
    "                                   )\n",
    "          )\n",
    "tukey"
   ]
  },
  {
   "cell_type": "markdown",
   "metadata": {},
   "source": [
    "Plot with stars"
   ]
  },
  {
   "cell_type": "code",
   "execution_count": 28,
   "metadata": {},
   "outputs": [
    {
     "data": {
      "image/png": "[encoded data removed]",
      "text/plain": [
       "plot without title"
      ]
     },
     "metadata": {
      "image/png": {
       "height": 600,
       "width": 900
      }
     },
     "output_type": "display_data"
    }
   ],
   "source": [
    "# Resize plot\n",
    "options(repr.plot.width=15)\n",
    "options(repr.plot.height=10)\n",
    "\n",
    "\n",
    "ggbarplot(\n",
    "    iris,\n",
    "    x = 'Species',\n",
    "    y = 'Sepal.Length',\n",
    "    add = 'mean_sd',\n",
    "    add.params = list(color='black'),\n",
    ") +\n",
    "stat_pvalue_manual(\n",
    "    tukey,\n",
    "    label = \"significance\", # Set to ptukey to show actual p-values\n",
    "    y.position = 8, # Height of brackets\n",
    "    step.increase = 0.2, # Distance between brackets\n",
    "    tip.length = 0.1 # Length of vertical part of brackets\n",
    ")"
   ]
  }
 ],
 "metadata": {
  "kernelspec": {
   "display_name": "R",
   "language": "R",
   "name": "ir"
  },
  "language_info": {
   "codemirror_mode": "r",
   "file_extension": ".r",
   "mimetype": "text/x-r-source",
   "name": "R",
   "pygments_lexer": "r",
   "version": "3.6.3"
  },
  "toc": {
   "base_numbering": 1,
   "nav_menu": {},
   "number_sections": true,
   "sideBar": true,
   "skip_h1_title": false,
   "title_cell": "Table of Contents",
   "title_sidebar": "Contents",
   "toc_cell": false,
   "toc_position": {},
   "toc_section_display": true,
   "toc_window_display": false
  }
 },
 "nbformat": 4,
 "nbformat_minor": 4
}
